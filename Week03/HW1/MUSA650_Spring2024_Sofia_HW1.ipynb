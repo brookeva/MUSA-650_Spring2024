{
  "cells": [
    {
      "cell_type": "markdown",
      "metadata": {
        "id": "d-YRejNQRf31"
      },
      "source": [
        "## HW1 - Basics of ML\n",
        "Include your code in the relevant cells below.\n",
        "Subparts labeled as questions (Q1.1, Q1.2, etc.) should have their answers filled in or plots placed prominently, as appropriate."
      ]
    },
    {
      "cell_type": "markdown",
      "metadata": {
        "id": "HO4cVuTmRf33"
      },
      "source": [
        "#### Important notes:\n",
        "\n",
        "1. On this and future homeworks, depending on the data size and your hardware configuration, experiments may take too long if you use the complete dataset. This may be challenging, as you may need to run multiple experiments. So, if an experiment takes too much time, start first with a smaller sample that will allow you to run your code within a reasonable time. Once you complete all tasks, before the final submission, you can allow longer run times and run your code with the complete set. However, if this is still taking too much time or causing your computer to freeze, it will be OK to submit experiments using a sample size that is feasible for your setting (indicate it clearly in your submission). Grading of the homework will not be affected from this type of variations in the design of your experiments.\n",
        "\n",
        "\n",
        "2. You can switch between 2D image data and 1D vector data using the numpy functions flatten() and resize()"
      ]
    },
    {
      "cell_type": "markdown",
      "metadata": {
        "id": "HJAqbOUmRf34"
      },
      "source": [
        "### S1: Filtering the data\n",
        "- Load MNIST FASHION dataset (hint: use the practice notebook)\n",
        "- Select a training set with the first n=100 samples from each category\n",
        "- Select a testing set with the first n=100 samples from each category\n",
        "- Create a numpy matrix named mat_avg defined as:\n",
        "  A 10 x 2 matrix with the average intensity of all images in each category for the training and testing sets (rows: 10 categories, columns: average intensity in train set,  average intensity in test set)\n",
        "\n",
        "Q1.1: Which category has the largest average intensity value in training data:   ___\n",
        "\n",
        "Q1.2: Which category has the largest average intensity value in testing data:   ___"
      ]
    },
    {
      "cell_type": "code",
      "source": [
        "import keras\n",
        "import numpy as np\n",
        "import matplotlib.pyplot as plt\n",
        "import pandas as pd"
      ],
      "metadata": {
        "id": "-DrtHSpFW0Ym"
      },
      "execution_count": 6,
      "outputs": []
    },
    {
      "cell_type": "code",
      "source": [
        "from keras.datasets import mnist"
      ],
      "metadata": {
        "id": "4eNxQCPkXCUY"
      },
      "execution_count": 7,
      "outputs": []
    },
    {
      "cell_type": "code",
      "source": [
        "#Load MNIST FASHION dataset (hint: use the practice notebook)\n",
        "(X_tr, Y_tr), (X_te, Y_te) = mnist.load_data()"
      ],
      "metadata": {
        "id": "9ZUQcCy-XH-7"
      },
      "execution_count": 8,
      "outputs": []
    },
    {
      "cell_type": "code",
      "source": [
        "print('X_tr: ' + str(X_tr.shape))\n",
        "print('Y_tr: ' + str(Y_tr.shape))\n",
        "print('X_te:  '  + str(X_te.shape))\n",
        "print('Y_te:  '  + str(Y_te.shape))"
      ],
      "metadata": {
        "colab": {
          "base_uri": "https://localhost:8080/"
        },
        "id": "30hheG5XXRuW",
        "outputId": "dcd44cc3-01e9-413b-fa3f-3aa400dd8c58"
      },
      "execution_count": 9,
      "outputs": [
        {
          "output_type": "stream",
          "name": "stdout",
          "text": [
            "X_tr: (60000, 28, 28)\n",
            "Y_tr: (60000,)\n",
            "X_te:  (10000, 28, 28)\n",
            "Y_te:  (10000,)\n"
          ]
        }
      ]
    },
    {
      "cell_type": "code",
      "source": [
        "print('Unique labels: ' + str(np.unique(Y_tr, return_counts=True)))\n"
      ],
      "metadata": {
        "colab": {
          "base_uri": "https://localhost:8080/"
        },
        "id": "WB053edtXWkC",
        "outputId": "700dc317-5540-40c3-a1bb-a1d42ac78ca6"
      },
      "execution_count": 10,
      "outputs": [
        {
          "output_type": "stream",
          "name": "stdout",
          "text": [
            "Unique labels: (array([0, 1, 2, 3, 4, 5, 6, 7, 8, 9], dtype=uint8), array([5923, 6742, 5958, 6131, 5842, 5421, 5918, 6265, 5851, 5949]))\n"
          ]
        }
      ]
    },
    {
      "cell_type": "code",
      "source": [
        "\n",
        "#Select a training set with the first n=100 samples from each category\n",
        "#chat gpt helped!\n",
        "\n",
        "# Initialize variables to store filtered training set\n",
        "X_tr_filtered = []\n",
        "Y_tr_filtered = []\n",
        "\n",
        "# Initialize a dictionary to count the number of samples per category\n",
        "samples_per_category = {i: 0 for i in range(10)}\n",
        "\n",
        "# Iterate through the training set\n",
        "for img, label in zip(X_tr, Y_tr):\n",
        "    # Check if we've already collected 100 samples for this category\n",
        "    if samples_per_category[label] < 100:\n",
        "        # Add the image and label to the filtered training set\n",
        "        X_tr_filtered.append(img)\n",
        "        Y_tr_filtered.append(label)\n",
        "        # Increment the count of samples for this category\n",
        "        samples_per_category[label] += 1\n",
        "\n",
        "# Convert lists to numpy arrays\n",
        "X_tr_filtered = np.array(X_tr_filtered)\n",
        "Y_tr_filtered = np.array(Y_tr_filtered)\n",
        "\n",
        "# Check the shapes of the filtered training set\n",
        "print(\"Filtered training set shape (images):\", X_tr_filtered.shape)\n",
        "print(\"Filtered training set shape (labels):\", Y_tr_filtered.shape)\n"
      ],
      "metadata": {
        "colab": {
          "base_uri": "https://localhost:8080/"
        },
        "id": "PuWZQSuubDnJ",
        "outputId": "ee0b8cab-38b4-419b-c23e-962e0423b89f"
      },
      "execution_count": 11,
      "outputs": [
        {
          "output_type": "stream",
          "name": "stdout",
          "text": [
            "Filtered training set shape (images): (1000, 28, 28)\n",
            "Filtered training set shape (labels): (1000,)\n"
          ]
        }
      ]
    },
    {
      "cell_type": "code",
      "source": [
        "#Select a testing set with the first n=100 samples from each category\n",
        "\n",
        "# Initialize variables to store filtered training set\n",
        "X_te_filtered = []\n",
        "Y_te_filtered = []\n",
        "\n",
        "# Initialize a dictionary to count the number of samples per category\n",
        "samples_per_category = {i: 0 for i in range(10)}\n",
        "\n",
        "# Iterate through the training set\n",
        "for img, label in zip(X_te, Y_te):\n",
        "    # Check if we've already collected 100 samples for this category\n",
        "    if samples_per_category[label] < 100:\n",
        "        # Add the image and label to the filtered training set\n",
        "        X_te_filtered.append(img)\n",
        "        Y_te_filtered.append(label)\n",
        "        # Increment the count of samples for this category\n",
        "        samples_per_category[label] += 1\n",
        "\n",
        "# Convert lists to numpy arrays\n",
        "X_te_filtered = np.array(X_te_filtered)\n",
        "Y_te_filtered = np.array(Y_te_filtered)\n",
        "\n",
        "# Check the shapes of the filtered training set\n",
        "print(\"Filtered testing set shape (images):\", X_te_filtered.shape)\n",
        "print(\"Filtered testing set shape (labels):\", Y_te_filtered.shape)"
      ],
      "metadata": {
        "colab": {
          "base_uri": "https://localhost:8080/"
        },
        "id": "hb54YKjBc1DJ",
        "outputId": "dbb481ba-08f7-4071-f3a8-8b180c25c14c"
      },
      "execution_count": 12,
      "outputs": [
        {
          "output_type": "stream",
          "name": "stdout",
          "text": [
            "Filtered testing set shape (images): (1000, 28, 28)\n",
            "Filtered testing set shape (labels): (1000,)\n"
          ]
        }
      ]
    },
    {
      "cell_type": "code",
      "source": [
        "#Create a numpy matrix named mat_avg defined as: A 10 x 2 matrix with the average intensity of all images in each category for the training and testing sets (rows: 10 categories, columns: average intensity in train set, average intensity in test set)\n",
        "\n",
        "# Calculate average intensity for each category in the training set\n",
        "train_avg_intensity = np.zeros((10, 1))\n",
        "thing = 0\n",
        "for i in range(10):\n",
        "    thing += 1\n",
        "    category_images = X_tr[Y_tr == i]\n",
        "    train_avg_intensity[i] = (np.mean(category_images))\n",
        "\n",
        "# Calculate average intensity for each category in the testing set\n",
        "test_avg_intensity = np.zeros((10, 1))\n",
        "for i in range(10):\n",
        "    category_images = X_te[Y_te == i]\n",
        "    test_avg_intensity[i] = (np.mean(category_images))\n",
        "\n",
        "# Combine average intensities for training and testing sets into a single matrix\n",
        "mat_avg = np.hstack((train_avg_intensity, test_avg_intensity))\n",
        "\n",
        "print(\"Matrix of average intensities (rows: 10 categories, columns: average intensity in train set, average intensity in test set):\")\n",
        "print(mat_avg)\n"
      ],
      "metadata": {
        "colab": {
          "base_uri": "https://localhost:8080/"
        },
        "id": "bI8ueugVfumm",
        "outputId": "29fb0ad6-cc4f-4e8c-a1e9-6fbfc239d652"
      },
      "execution_count": 13,
      "outputs": [
        {
          "output_type": "stream",
          "name": "stdout",
          "text": [
            "Matrix of average intensities (rows: 10 categories, columns: average intensity in train set, average intensity in test set):\n",
            "[[44.21682791 43.93913864]\n",
            " [19.37965385 19.5680628 ]\n",
            " [37.98865785 38.29717905]\n",
            " [36.09018654 36.54284704]\n",
            " [30.94822568 31.28021219]\n",
            " [32.83109548 33.67374823]\n",
            " [35.01195268 36.61189473]\n",
            " [29.20456293 29.29980073]\n",
            " [38.28977538 39.04743353]\n",
            " [31.26043543 31.94294462]]\n"
          ]
        }
      ]
    },
    {
      "cell_type": "markdown",
      "source": [
        "Q1.1: The category that has the largest average intensity value in training data is category 0.\n",
        "\n",
        "Q1.2: The category that has the largest average intensity value in testing data is also category 0."
      ],
      "metadata": {
        "id": "KZzKt9Rciq1K"
      }
    },
    {
      "cell_type": "markdown",
      "metadata": {
        "id": "u_I6oexfRf34"
      },
      "source": [
        "### S2: Finding the average image\n",
        "- Find and display a single average image of all shoes (categories 'Sandal', 'Sneaker', 'Ankle boot') in training and testing data (use the smaller sample you created)"
      ]
    },
    {
      "cell_type": "code",
      "source": [
        "\n",
        "# Categories of interest ('Sandal', 'Sneaker', 'Ankle boot')\n",
        "categories_of_interest = [5, 7, 9]  # Assuming class indices for these categories\n",
        "\n",
        "# using the data we filtered earlier\n",
        "# Filter data for the specified categories\n",
        "train_data_filtered = X_tr_filtered[categories_of_interest]\n",
        "test_data_filtered = X_te_filtered[categories_of_interest]\n",
        "\n",
        "# Calculate the average image for each category\n",
        "avg_image_train = np.mean(train_data_filtered, axis=0)\n",
        "avg_image_test = np.mean(test_data_filtered, axis=0)\n",
        "\n",
        "# Display the average images\n",
        "plt.figure(figsize=(8, 4))\n",
        "\n",
        "plt.subplot(1, 2, 1)\n",
        "plt.imshow(avg_image_train, cmap='gray')\n",
        "plt.title('Average Image (Training)')\n",
        "plt.axis('off')\n",
        "\n",
        "plt.subplot(1, 2, 2)\n",
        "plt.imshow(avg_image_test, cmap='gray')\n",
        "plt.title('Average Image (Testing)')\n",
        "plt.axis('off')\n",
        "\n",
        "plt.show()"
      ],
      "metadata": {
        "colab": {
          "base_uri": "https://localhost:8080/",
          "height": 341
        },
        "id": "caruyFjli4hu",
        "outputId": "28ee452d-b2e2-4b31-e8e7-f003145caa80"
      },
      "execution_count": 14,
      "outputs": [
        {
          "output_type": "display_data",
          "data": {
            "text/plain": [
              "<Figure size 800x400 with 2 Axes>"
            ],
            "image/png": "[encoded data removed]"
          },
          "metadata": {}
        }
      ]
    },
    {
      "cell_type": "markdown",
      "metadata": {
        "id": "LWRNu_p_Rf34"
      },
      "source": [
        "### S3: Image distances\n",
        "In the training set, find the shoe image that is most dissimilar from the mean shoe image. Show it as a 2D image\n",
        "In the training set, find the shoe image that is most similar from the mean shoe image. Show it as a 2D image\n",
        "Do the same for the testing set\n",
        "Hint: You can use the \"euclidean distance\" as your similarity metric. Given that an image i is represented with a flattened feature vector v_i , and the second image j with v_m, the distance between these two images can be calculated using the vector norm of their differences ( | v_i - v_j | )\n",
        "\n",
        "Q3.1: What is the index of most similar shoe image in the training set: ___\n",
        "\n",
        "Q3.2: What is the index of most dissimilar shoe image in the training set: ___\n",
        "\n",
        "Q3.1: What is the index of most dissimilar shoe image in the testing set: ___\n"
      ]
    },
    {
      "cell_type": "code",
      "source": [
        "## Select images\n",
        "X = train_data_filtered\n",
        "Y = test_data_filtered\n",
        "indAll = np.where(Y == 7)[0]\n",
        "imgAll = X[indAll, :, :]\n",
        "print('Num sel: ' + str(indAll.shape))\n",
        "print('Num img mat: ' + str(imgAll.shape))"
      ],
      "metadata": {
        "colab": {
          "base_uri": "https://localhost:8080/"
        },
        "id": "DpNoLOZsmo1p",
        "outputId": "f379faf3-cc91-4ff9-94a4-f74d04e5d758"
      },
      "execution_count": 15,
      "outputs": [
        {
          "output_type": "stream",
          "name": "stdout",
          "text": [
            "Num sel: (2,)\n",
            "Num img mat: (2, 28, 28)\n"
          ]
        }
      ]
    },
    {
      "cell_type": "code",
      "source": [
        "## Calculate avg img\n",
        "img_mean = np.mean(imgAll, axis = 0)\n",
        "img_mean.shape"
      ],
      "metadata": {
        "colab": {
          "base_uri": "https://localhost:8080/"
        },
        "id": "Pg5oRpqJn6hG",
        "outputId": "582ca8ce-8df4-462c-e290-d7eb9877db44"
      },
      "execution_count": 16,
      "outputs": [
        {
          "output_type": "execute_result",
          "data": {
            "text/plain": [
              "(28, 28)"
            ]
          },
          "metadata": {},
          "execution_count": 16
        }
      ]
    },
    {
      "cell_type": "code",
      "source": [
        "## Show mean img\n",
        "plt.imshow(img_mean)\n",
        "plt.show()"
      ],
      "metadata": {
        "colab": {
          "base_uri": "https://localhost:8080/",
          "height": 430
        },
        "id": "jglL6_yeo6sp",
        "outputId": "69194958-35ed-4318-d992-1dbccc06400a"
      },
      "execution_count": null,
      "outputs": [
        {
          "output_type": "display_data",
          "data": {
            "text/plain": [
              "<Figure size 640x480 with 1 Axes>"
            ],
            "image/png": "[encoded data removed]"
          },
          "metadata": {}
        }
      ]
    },
    {
      "cell_type": "code",
      "source": [
        "## Find pixelwise \"distance\" of each image to the mean image\n",
        "vec_mean = img_mean.flatten()\n",
        "arr_d = np.zeros(indAll.shape[0])\n",
        "for i, ind_sel in enumerate(indAll):\n",
        "  img_sel = X[ind_sel, :, :].flatten()\n",
        "\n",
        "  d_sel = np.sqrt(np.dot(vec_mean - img_sel, vec_mean - img_sel))\n",
        "  #d_sel = np.linalg.norm(img_sel - vec_mean)\n",
        "  #d_sel = np.sqrt(np.square(img_sel - vec_mean).sum())\n",
        "\n",
        "  arr_d[i]=d_sel"
      ],
      "metadata": {
        "id": "SF4pAUEzo--7"
      },
      "execution_count": 17,
      "outputs": []
    },
    {
      "cell_type": "code",
      "source": [
        "ind_similar = indAll[arr_d.argmin()]\n",
        "ind_dissimilar = indAll[arr_d.argmax()]"
      ],
      "metadata": {
        "id": "TLW6So8apHzf"
      },
      "execution_count": 18,
      "outputs": []
    },
    {
      "cell_type": "code",
      "source": [
        "## Show similar / dissimilar images\n",
        "fig, ax = plt.subplots(nrows = 1, ncols = 3)\n",
        "ax[0].imshow(img_mean)\n",
        "ax[1].imshow(X[ind_similar,:,:])\n",
        "ax[2].imshow(X[ind_dissimilar,:,:])\n",
        "plt.show()"
      ],
      "metadata": {
        "colab": {
          "base_uri": "https://localhost:8080/",
          "height": 209
        },
        "id": "VW0cT6_EpNll",
        "outputId": "33b58a09-79c7-4e75-acce-62e622b33b41"
      },
      "execution_count": 19,
      "outputs": [
        {
          "output_type": "display_data",
          "data": {
            "text/plain": [
              "<Figure size 640x480 with 3 Axes>"
            ],
            "image/png": "[encoded data removed]"
          },
          "metadata": {}
        }
      ]
    },
    {
      "cell_type": "code",
      "source": [
        "## Select images\n",
        "X = train_data_filtered\n",
        "Y = test_data_filtered\n",
        "\n",
        "## Binarize images\n",
        "X = (X>128).astype(int)\n",
        "\n",
        "indAll = np.where(Y == 7)[0]\n",
        "imgAll = X[indAll, :, :]\n",
        "print('Num sel: ' + str(indAll.shape))\n",
        "print('Num img mat: ' + str(imgAll.shape))\n",
        "\n",
        "## Calculate avg img\n",
        "img_mean = np.mean(imgAll, axis = 0)\n",
        "img_mean.shape\n",
        "\n",
        "## Find pixelwise \"distance\" of each image to the mean image\n",
        "vec_mean = img_mean.flatten()\n",
        "arr_d = np.zeros(indAll.shape[0])\n",
        "for i, ind_sel in enumerate(indAll):\n",
        "  img_sel = X[ind_sel, :, :].flatten()\n",
        "\n",
        "  d_sel = np.sqrt(np.dot(vec_mean - img_sel, vec_mean - img_sel))\n",
        "  #d_sel = np.linalg.norm(img_sel - vec_mean)\n",
        "  #d_sel = np.sqrt(np.square(img_sel - vec_mean).sum())\n",
        "\n",
        "  arr_d[i] = d_sel\n",
        "\n",
        "ind_similar = indAll[arr_d.argmin()]\n",
        "ind_dissimilar = indAll[arr_d.argmax()]\n",
        "\n",
        "## Show similar / dissimilar images\n",
        "fig, ax = plt.subplots(nrows = 1, ncols = 3)\n",
        "ax[0].imshow(img_mean)\n",
        "ax[1].imshow(X[ind_similar,:,:])\n",
        "ax[2].imshow(X[ind_dissimilar,:,:])\n",
        "plt.show()"
      ],
      "metadata": {
        "colab": {
          "base_uri": "https://localhost:8080/",
          "height": 244
        },
        "id": "_v2RrYOTpTFG",
        "outputId": "1783819a-c895-429e-d136-000a5c78c033"
      },
      "execution_count": 20,
      "outputs": [
        {
          "output_type": "stream",
          "name": "stdout",
          "text": [
            "Num sel: (2,)\n",
            "Num img mat: (2, 28, 28)\n"
          ]
        },
        {
          "output_type": "display_data",
          "data": {
            "text/plain": [
              "<Figure size 640x480 with 3 Axes>"
            ],
            "image/png": "[encoded data removed]"
          },
          "metadata": {}
        }
      ]
    },
    {
      "cell_type": "code",
      "source": [
        "print(ind_similar)\n",
        "print(ind_dissimilar)"
      ],
      "metadata": {
        "colab": {
          "base_uri": "https://localhost:8080/"
        },
        "id": "TXspadnppOcs",
        "outputId": "1401c1f0-e2a6-4d84-bd66-a404a291a040"
      },
      "execution_count": 21,
      "outputs": [
        {
          "output_type": "stream",
          "name": "stdout",
          "text": [
            "0\n",
            "0\n"
          ]
        }
      ]
    },
    {
      "cell_type": "code",
      "source": [
        "## Select images\n",
        "X = train_data_filtered\n",
        "Y = test_data_filtered\n",
        "\n",
        "## Binarize images\n",
        "X = (X>128).astype(int)\n",
        "\n",
        "indAll = np.where(Y == 7)[0]\n",
        "imgAll = X[indAll, :, :]\n",
        "print('Num sel: ' + str(indAll.shape))\n",
        "print('Num img mat: ' + str(imgAll.shape))\n",
        "\n",
        "## Calculate avg img\n",
        "img_mean = np.mean(imgAll, axis = 0)\n",
        "img_mean.shape\n",
        "\n",
        "## Find pixelwise \"distance\" of each image to the mean image\n",
        "vec_mean = img_mean.flatten()\n",
        "arr_d = np.zeros(indAll.shape[0])\n",
        "for i, ind_sel in enumerate(indAll):\n",
        "  img_sel = Y[ind_sel, :, :].flatten()\n",
        "\n",
        "  d_sel = np.sqrt(np.dot(vec_mean - img_sel, vec_mean - img_sel))\n",
        "  #d_sel = np.linalg.norm(img_sel - vec_mean)\n",
        "  #d_sel = np.sqrt(np.square(img_sel - vec_mean).sum())\n",
        "\n",
        "  arr_d[i] = d_sel\n",
        "\n",
        "ind_similar = indAll[arr_d.argmin()]\n",
        "ind_dissimilar = indAll[arr_d.argmax()]\n",
        "\n",
        "## Show similar / dissimilar images\n",
        "fig, ax = plt.subplots(nrows = 1, ncols = 3)\n",
        "ax[0].imshow(img_mean)\n",
        "ax[1].imshow(X[ind_similar,:,:])\n",
        "ax[2].imshow(X[ind_dissimilar,:,:])\n",
        "plt.show()"
      ],
      "metadata": {
        "colab": {
          "base_uri": "https://localhost:8080/",
          "height": 244
        },
        "id": "y2ewrc8zsT9f",
        "outputId": "c8eefe43-ff13-4ce3-d9cb-e89301141e7d"
      },
      "execution_count": 22,
      "outputs": [
        {
          "output_type": "stream",
          "name": "stdout",
          "text": [
            "Num sel: (2,)\n",
            "Num img mat: (2, 28, 28)\n"
          ]
        },
        {
          "output_type": "display_data",
          "data": {
            "text/plain": [
              "<Figure size 640x480 with 3 Axes>"
            ],
            "image/png": "[encoded data removed]"
          },
          "metadata": {}
        }
      ]
    },
    {
      "cell_type": "code",
      "source": [
        "print(ind_similar)\n",
        "print(ind_dissimilar)"
      ],
      "metadata": {
        "colab": {
          "base_uri": "https://localhost:8080/"
        },
        "id": "AkmFcmpitOJ2",
        "outputId": "aed1f52b-a0da-4acf-a270-7ccf7f082f17"
      },
      "execution_count": 23,
      "outputs": [
        {
          "output_type": "stream",
          "name": "stdout",
          "text": [
            "0\n",
            "2\n"
          ]
        }
      ]
    },
    {
      "cell_type": "markdown",
      "metadata": {
        "id": "i64xiw5hRf35"
      },
      "source": [
        "### S4: Train a classifier to differentiate shoes from no-shoes\n",
        "- Create new labels for train and test images as shoes (1) or no-shoes (0)\n",
        "- Train 2 different classifiers on the training set (SVM and Random Forest). Apply the classifiers on the testing data\n",
        "- Display the confusion matrix of each classifier\n",
        "- Display 4 images that are mis-classified as shoes by each classifier\n",
        "\n",
        "Q1.1: What is the testing accuracy of each classifier:   ___\n",
        "\n",
        "Q1.2: What is the category (original label) that is most frequently mis-classified as a shoe:   ___\n",
        "\n",
        "Q1.3: What is the category (original label) that is most frequently mis-classified as a non-shoe:   ___\n"
      ]
    },
    {
      "cell_type": "code",
      "source": [
        "#Create new labels for train and test images as shoes (1) or no-shoes (0)\n",
        "\n",
        "\n",
        "# shoe categories ('Sandal', 'Sneaker', 'Ankle boot')\n",
        "# relabeling\n",
        "\n",
        "X = X_tr_filtered\n",
        "Y = Y_tr_filtered\n",
        "X_t = X_te_filtered\n",
        "Y_t = Y_te_filtered\n",
        "\n",
        "## Replace labels\n",
        "X[(Y == 5)] = 1\n",
        "X[(Y == 7)] = 1\n",
        "X[(Y == 9)] = 1\n",
        "X[(Y == 0)] = 0\n",
        "X[(Y == 1)] = 0\n",
        "X[(Y == 2)] = 0\n",
        "X[(Y == 3)] = 0\n",
        "X[(Y == 4)] = 0\n",
        "X[(Y == 6)] = 0\n",
        "X[(Y == 8)] = 0\n",
        "\n",
        "Y[5] = 1\n",
        "Y[7] = 1\n",
        "Y[9] = 1\n",
        "Y[0] = 0\n",
        "Y[1] = 0\n",
        "Y[2] = 0\n",
        "Y[3] = 0\n",
        "Y[4] = 0\n",
        "Y[6] = 0\n",
        "Y[8] = 0\n",
        "\n",
        "X_t[(Y_t == 5)] = 1\n",
        "X_t[(Y_t == 7)] = 1\n",
        "X_t[(Y_t == 9)] = 1\n",
        "X_t[(Y_t == 0)] = 0\n",
        "X_t[(Y_t == 1)] = 0\n",
        "X_t[(Y_t == 2)] = 0\n",
        "X_t[(Y_t == 3)] = 0\n",
        "X_t[(Y_t == 4)] = 0\n",
        "X_t[(Y_t == 6)] = 0\n",
        "X_t[(Y_t == 8)] = 0\n",
        "\n",
        "Y_t[5] = 1\n",
        "Y_t[7] = 1\n",
        "Y_t[9] = 1\n",
        "Y_t[0] = 0\n",
        "Y_t[1] = 0\n",
        "Y_t[2] = 0\n",
        "Y_t[3] = 0\n",
        "Y_t[4] = 0\n",
        "Y_t[6] = 0\n",
        "Y_t[8] = 0"
      ],
      "metadata": {
        "id": "Bb5_DeUo0F9X"
      },
      "execution_count": 24,
      "outputs": []
    },
    {
      "cell_type": "code",
      "source": [
        "#flatten training images\n",
        "X = X.reshape(X.shape[0], -1)\n",
        "Y = Y.reshape(Y.shape[0], -1)\n",
        "X_t = X_t.reshape(X_t.shape[0], -1)\n",
        "Y_t = Y_t.reshape(Y_t.shape[0], -1)"
      ],
      "metadata": {
        "id": "mKHC3iX2xyfB"
      },
      "execution_count": 25,
      "outputs": []
    },
    {
      "cell_type": "code",
      "source": [
        "#Train 2 different classifiers on the training set (SVM and Random Forest). Apply the classifiers on the testing data\n",
        "\n",
        "from sklearn import svm\n",
        "\n",
        "# Create the svm classifier\n",
        "clf = svm.SVC(kernel='linear') # Linear Kernel\n",
        "\n",
        "# Train the model\n",
        "clf.fit(X, Y)\n",
        "\n",
        "# Predict the label\n",
        "y_pred = clf.predict(X_t)\n",
        "\n",
        "\n",
        "from sklearn.ensemble import RandomForestClassifier\n",
        "\n",
        "# Create the Random Forest classifier\n",
        "rf_clf = RandomForestClassifier(n_estimators=100, random_state=42)\n",
        "\n",
        "# Train the model\n",
        "rf_clf.fit(X, Y)\n",
        "\n",
        "# Predict the labels\n",
        "rf_y_pred = rf_clf.predict(X_t)"
      ],
      "metadata": {
        "id": "l6nkTOfCzYS0",
        "colab": {
          "base_uri": "https://localhost:8080/"
        },
        "outputId": "744cfa69-f467-4a66-8203-eca3fbc31d61"
      },
      "execution_count": 28,
      "outputs": [
        {
          "output_type": "stream",
          "name": "stderr",
          "text": [
            "/usr/local/lib/python3.10/dist-packages/sklearn/utils/validation.py:1143: DataConversionWarning: A column-vector y was passed when a 1d array was expected. Please change the shape of y to (n_samples, ), for example using ravel().\n",
            "  y = column_or_1d(y, warn=True)\n"
          ]
        }
      ]
    },
    {
      "cell_type": "code",
      "source": [
        "#Display the confusion matrix of each classifier\n",
        "\n",
        "from sklearn.metrics import confusion_matrix\n",
        "\n",
        "result = confusion_matrix(Y_t, y_pred)\n",
        "print(\"Confusion Matrix SVM:\")\n",
        "print(result)\n",
        "\n",
        "rf_result = confusion_matrix(Y_t, rf_y_pred)\n",
        "print(\"Confusion Matrix for Random Forest:\")\n",
        "print(rf_result)"
      ],
      "metadata": {
        "id": "93dPiBD0zKxx",
        "colab": {
          "base_uri": "https://localhost:8080/"
        },
        "outputId": "a90bf254-86dc-4616-ec8b-ba764252be13"
      },
      "execution_count": 37,
      "outputs": [
        {
          "output_type": "stream",
          "name": "stdout",
          "text": [
            "Confusion Matrix SVM:\n",
            "[[104   0   0   0   0   0   0   2   0   0]\n",
            " [ 99   0   0   0   0   0   0   2   0   0]\n",
            " [ 99   0   0   0   0   0   0   0   0   0]\n",
            " [100   0   0   0   0   0   0   0   0   0]\n",
            " [ 98   0   0   0   0   0   0   0   0   0]\n",
            " [  0   0   0   0   0   0   0  99   0   0]\n",
            " [100   0   0   0   0   0   0   0   0   0]\n",
            " [  0   0   0   0   0   0   0  99   0   0]\n",
            " [100   0   0   0   0   0   0   0   0   0]\n",
            " [  0   0   0   0   0   0   0  98   0   0]]\n",
            "Confusion Matrix for Random Forest:\n",
            "[[104   0   0   0   0   0   0   2   0   0]\n",
            " [ 99   0   0   0   0   0   0   2   0   0]\n",
            " [ 99   0   0   0   0   0   0   0   0   0]\n",
            " [100   0   0   0   0   0   0   0   0   0]\n",
            " [ 98   0   0   0   0   0   0   0   0   0]\n",
            " [  0   0   0   0   0   0   0  99   0   0]\n",
            " [100   0   0   0   0   0   0   0   0   0]\n",
            " [  0   0   0   0   0   0   0  99   0   0]\n",
            " [100   0   0   0   0   0   0   0   0   0]\n",
            " [  0   0   0   0   0   0   0  98   0   0]]\n"
          ]
        }
      ]
    },
    {
      "cell_type": "code",
      "source": [
        "print(Y_t.shape)\n",
        "print(y_pred.shape)\n",
        "\n",
        "print(Y_t[0])\n",
        "print(y_pred[0])"
      ],
      "metadata": {
        "colab": {
          "base_uri": "https://localhost:8080/"
        },
        "id": "apt6zbOz79q_",
        "outputId": "cd67c513-8e54-47de-f597-23071b30d412"
      },
      "execution_count": 42,
      "outputs": [
        {
          "output_type": "stream",
          "name": "stdout",
          "text": [
            "(1000, 1)\n",
            "(1000,)\n",
            "[0]\n",
            "7\n"
          ]
        }
      ]
    },
    {
      "cell_type": "code",
      "source": [
        "# Display misclassified images for SVM\n",
        "misclassified_svm_indices = np.where(y_pred != Y_t)[0][:4]  # Get indices of misclassified images\n",
        "print(\"Misclassified images for SVM:\")\n",
        "for idx in misclassified_svm_indices:\n",
        "    print(\"True label:\", Y_t[idx], \"Predicted label:\", y_pred[idx])\n",
        "    plt.imshow(X_t[idx].reshape(28, 28), cmap='gray')\n",
        "    plt.show()\n",
        "\n",
        "# Display misclassified images for Random Forest\n",
        "misclassified_rf_indices = np.where(rf_y_pred != Y_t)[0][:4]  # Get indices of misclassified images\n",
        "print(\"\\nMisclassified images for Random Forest:\")\n",
        "for idx in misclassified_rf_indices:\n",
        "    print(\"True label:\", Y_t[idx], \"Predicted label:\", rf_y_pred[idx])\n",
        "    plt.imshow(X_t[idx].reshape(28, 28), cmap='gray')\n",
        "    plt.show()\n"
      ],
      "metadata": {
        "colab": {
          "base_uri": "https://localhost:8080/",
          "height": 1000
        },
        "id": "0Aau_hR68gcw",
        "outputId": "026a89e8-59b5-43c5-a4c9-aa8888287054"
      },
      "execution_count": 47,
      "outputs": [
        {
          "output_type": "stream",
          "name": "stdout",
          "text": [
            "Misclassified images for SVM:\n",
            "True label: [0] Predicted label: 7\n"
          ]
        },
        {
          "output_type": "display_data",
          "data": {
            "text/plain": [
              "<Figure size 640x480 with 1 Axes>"
            ],
            "image/png": "[encoded data removed]"
          },
          "metadata": {}
        },
        {
          "output_type": "stream",
          "name": "stdout",
          "text": [
            "True label: [0] Predicted label: 7\n"
          ]
        },
        {
          "output_type": "display_data",
          "data": {
            "text/plain": [
              "<Figure size 640x480 with 1 Axes>"
            ],
            "image/png": "[encoded data removed]"
          },
          "metadata": {}
        },
        {
          "output_type": "stream",
          "name": "stdout",
          "text": [
            "True label: [0] Predicted label: 7\n"
          ]
        },
        {
          "output_type": "display_data",
          "data": {
            "text/plain": [
              "<Figure size 640x480 with 1 Axes>"
            ],
            "image/png": "[encoded data removed]"
          },
          "metadata": {}
        },
        {
          "output_type": "stream",
          "name": "stdout",
          "text": [
            "True label: [0] Predicted label: 7\n"
          ]
        },
        {
          "output_type": "display_data",
          "data": {
            "text/plain": [
              "<Figure size 640x480 with 1 Axes>"
            ],
            "image/png": "[encoded data removed]"
          },
          "metadata": {}
        },
        {
          "output_type": "stream",
          "name": "stdout",
          "text": [
            "\n",
            "Misclassified images for Random Forest:\n",
            "True label: [0] Predicted label: 7\n"
          ]
        },
        {
          "output_type": "display_data",
          "data": {
            "text/plain": [
              "<Figure size 640x480 with 1 Axes>"
            ],
            "image/png": "[encoded data removed]"
          },
          "metadata": {}
        },
        {
          "output_type": "stream",
          "name": "stdout",
          "text": [
            "True label: [0] Predicted label: 7\n"
          ]
        },
        {
          "output_type": "display_data",
          "data": {
            "text/plain": [
              "<Figure size 640x480 with 1 Axes>"
            ],
            "image/png": "[encoded data removed]"
          },
          "metadata": {}
        },
        {
          "output_type": "stream",
          "name": "stdout",
          "text": [
            "True label: [0] Predicted label: 7\n"
          ]
        },
        {
          "output_type": "display_data",
          "data": {
            "text/plain": [
              "<Figure size 640x480 with 1 Axes>"
            ],
            "image/png": "[encoded data removed]"
          },
          "metadata": {}
        },
        {
          "output_type": "stream",
          "name": "stdout",
          "text": [
            "True label: [0] Predicted label: 7\n"
          ]
        },
        {
          "output_type": "display_data",
          "data": {
            "text/plain": [
              "<Figure size 640x480 with 1 Axes>"
            ],
            "image/png": "[encoded data removed]"
          },
          "metadata": {}
        }
      ]
    },
    {
      "cell_type": "code",
      "source": [
        "#Q1.1: What is the testing accuracy of each classifier?\n",
        "from sklearn import metrics\n",
        "\n",
        "print('Q1.1')\n",
        "print('Accuracy for SVM: ', metrics.accuracy_score(Y_t, y_pred))\n",
        "\n",
        "print('Accuracy for Random Forest: ', metrics.accuracy_score(Y_t, rf_y_pred))"
      ],
      "metadata": {
        "colab": {
          "base_uri": "https://localhost:8080/"
        },
        "id": "UwuKVGSw5lVE",
        "outputId": "6484236f-1619-4b15-cca4-9c567c889149"
      },
      "execution_count": 45,
      "outputs": [
        {
          "output_type": "stream",
          "name": "stdout",
          "text": [
            "Q1.1\n",
            "Accuracy for SVM:  0.203\n",
            "Accuracy for Random Forest:  0.203\n"
          ]
        }
      ]
    },
    {
      "cell_type": "code",
      "source": [
        "#Q1.2: What is the category (original label) that is most frequently mis-classified as a shoe?\n",
        "# look at the confusion matrix!\n",
        "\n",
        "print('Category 0 (T-Shirt) is most is most frequently mis-classified as a shoe.')\n"
      ],
      "metadata": {
        "id": "9ywSUxSc87kO"
      },
      "execution_count": null,
      "outputs": []
    },
    {
      "cell_type": "code",
      "source": [
        "#Q1.3: What is the category (original label) that is most frequently mis-classified as a non-shoe?\n",
        "# looking at the confusion matrix!\n",
        "print('No categories were mis-classified as non-shoes!')\n"
      ],
      "metadata": {
        "id": "lwSbfqKA9SDE"
      },
      "execution_count": null,
      "outputs": []
    },
    {
      "cell_type": "markdown",
      "metadata": {
        "id": "MJcr26lQRf35"
      },
      "source": [
        "### Bonus:\n",
        "\n",
        "- In question S4 you have a chance to discard one of image categories that are part of the non-shoe set. Which category would you prefer to discard? Explain and justify with data\n"
      ]
    }
  ],
  "metadata": {
    "kernelspec": {
      "display_name": "Python 3 (ipykernel)",
      "language": "python",
      "name": "python3"
    },
    "language_info": {
      "codemirror_mode": {
        "name": "ipython",
        "version": 3
      },
      "file_extension": ".py",
      "mimetype": "text/x-python",
      "name": "python",
      "nbconvert_exporter": "python",
      "pygments_lexer": "ipython3",
      "version": "3.8.17"
    },
    "colab": {
      "provenance": []
    }
  },
  "nbformat": 4,
  "nbformat_minor": 0
}